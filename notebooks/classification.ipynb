{
 "cells": [
  {
   "cell_type": "markdown",
   "metadata": {},
   "source": [
    "# fastText Commit Classification"
   ]
  },
  {
   "cell_type": "markdown",
   "metadata": {},
   "source": [
    "In this notebook, we use a pre-trained fastText classification learned from labeled datasets to classify unlabeled commits gathered from Github."
   ]
  },
  {
   "cell_type": "markdown",
   "metadata": {},
   "source": [
    "#### Import the required libraries"
   ]
  },
  {
   "cell_type": "code",
   "execution_count": 2,
   "metadata": {},
   "outputs": [],
   "source": [
    "import pandas as pd\n",
    "from fasttext import load_model"
   ]
  },
  {
   "cell_type": "markdown",
   "metadata": {},
   "source": [
    "#### Read the data"
   ]
  },
  {
   "cell_type": "code",
   "execution_count": 3,
   "metadata": {},
   "outputs": [
    {
     "name": "stderr",
     "output_type": "stream",
     "text": [
      "Warning : `load_model` does not return WordVectorModel or SupervisedModel any more, but a `FastText` object which is very similar.\n"
     ]
    }
   ],
   "source": [
    "classifier = load_model(\"../model/model.bin\") \n",
    "df = pd.read_csv('../data/commits.csv',  lineterminator='\\n', encoding=\"utf-8\")\n",
    "df = df.loc[:, ~df.columns.str.contains('^Unnamed')]"
   ]
  },
  {
   "cell_type": "markdown",
   "metadata": {},
   "source": [
    "#### Format the data"
   ]
  },
  {
   "cell_type": "code",
   "execution_count": 4,
   "metadata": {},
   "outputs": [],
   "source": [
    "# replace \\n with space\n",
    "df = df.replace('\\n','', regex=True)"
   ]
  },
  {
   "cell_type": "code",
   "execution_count": 5,
   "metadata": {},
   "outputs": [
    {
     "data": {
      "text/plain": [
       "(50000, 1)"
      ]
     },
     "execution_count": 5,
     "metadata": {},
     "output_type": "execute_result"
    }
   ],
   "source": [
    "# check the shape of the Github data\n",
    "df.shape"
   ]
  },
  {
   "cell_type": "code",
   "execution_count": 6,
   "metadata": {},
   "outputs": [
    {
     "data": {
      "text/plain": [
       "Index(['message'], dtype='object')"
      ]
     },
     "execution_count": 6,
     "metadata": {},
     "output_type": "execute_result"
    }
   ],
   "source": [
    "df.columns"
   ]
  },
  {
   "cell_type": "markdown",
   "metadata": {},
   "source": [
    "##### Normalize the data"
   ]
  },
  {
   "cell_type": "code",
   "execution_count": 7,
   "metadata": {},
   "outputs": [],
   "source": [
    "# convert the commit message column into string\n",
    "commits = list(df['message'].astype(str))"
   ]
  },
  {
   "cell_type": "markdown",
   "metadata": {},
   "source": [
    "##### Predict using fastText "
   ]
  },
  {
   "cell_type": "code",
   "execution_count": 8,
   "metadata": {},
   "outputs": [],
   "source": [
    "# predict the label with fastText\n",
    "labels = classifier.predict(commits)  "
   ]
  },
  {
   "cell_type": "code",
   "execution_count": 9,
   "metadata": {},
   "outputs": [],
   "source": [
    "res = list(zip(*labels))\n",
    "res_list = [x[0] for x in res]\n",
    "lst2 = [item[0] for item in res_list]\n",
    "df['labels_predicted'] = lst2"
   ]
  },
  {
   "cell_type": "markdown",
   "metadata": {},
   "source": [
    "##### Check the predictions made"
   ]
  },
  {
   "cell_type": "code",
   "execution_count": 10,
   "metadata": {},
   "outputs": [
    {
     "data": {
      "text/html": [
       "<div>\n",
       "<style scoped>\n",
       "    .dataframe tbody tr th:only-of-type {\n",
       "        vertical-align: middle;\n",
       "    }\n",
       "\n",
       "    .dataframe tbody tr th {\n",
       "        vertical-align: top;\n",
       "    }\n",
       "\n",
       "    .dataframe thead th {\n",
       "        text-align: right;\n",
       "    }\n",
       "</style>\n",
       "<table border=\"1\" class=\"dataframe\">\n",
       "  <thead>\n",
       "    <tr style=\"text-align: right;\">\n",
       "      <th></th>\n",
       "      <th>message</th>\n",
       "      <th>labels_predicted</th>\n",
       "    </tr>\n",
       "  </thead>\n",
       "  <tbody>\n",
       "    <tr>\n",
       "      <th>0</th>\n",
       "      <td>Use github's new relative path format.</td>\n",
       "      <td>__label__features</td>\n",
       "    </tr>\n",
       "    <tr>\n",
       "      <th>1</th>\n",
       "      <td>Fix conditional variance of LS estimate.In 18....</td>\n",
       "      <td>__label__corrective</td>\n",
       "    </tr>\n",
       "    <tr>\n",
       "      <th>2</th>\n",
       "      <td>Merge pull request #8 from cortex/masterShared...</td>\n",
       "      <td>__label__nonfunctional</td>\n",
       "    </tr>\n",
       "    <tr>\n",
       "      <th>3</th>\n",
       "      <td>Integrate Mathieu Bryen's pull request.</td>\n",
       "      <td>__label__perfective</td>\n",
       "    </tr>\n",
       "    <tr>\n",
       "      <th>4</th>\n",
       "      <td>Merge branch 'master' of github.com:mavam/stat...</td>\n",
       "      <td>__label__features</td>\n",
       "    </tr>\n",
       "    <tr>\n",
       "      <th>...</th>\n",
       "      <td>...</td>\n",
       "      <td>...</td>\n",
       "    </tr>\n",
       "    <tr>\n",
       "      <th>49995</th>\n",
       "      <td>10.6 build fix</td>\n",
       "      <td>__label__corrective</td>\n",
       "    </tr>\n",
       "    <tr>\n",
       "      <th>49996</th>\n",
       "      <td>Don't delete beanstalkd.spec during distclean.</td>\n",
       "      <td>__label__perfective</td>\n",
       "    </tr>\n",
       "    <tr>\n",
       "      <th>49997</th>\n",
       "      <td>Re-add bitcoin(32&amp;80).xpm</td>\n",
       "      <td>__label__perfective</td>\n",
       "    </tr>\n",
       "    <tr>\n",
       "      <th>49998</th>\n",
       "      <td>fixed some ClassInfo bugsSummary:for better re...</td>\n",
       "      <td>__label__corrective</td>\n",
       "    </tr>\n",
       "    <tr>\n",
       "      <th>49999</th>\n",
       "      <td>Support chinese Language ns</td>\n",
       "      <td>__label__perfective</td>\n",
       "    </tr>\n",
       "  </tbody>\n",
       "</table>\n",
       "<p>50000 rows × 2 columns</p>\n",
       "</div>"
      ],
      "text/plain": [
       "                                                 message  \\\n",
       "0                 Use github's new relative path format.   \n",
       "1      Fix conditional variance of LS estimate.In 18....   \n",
       "2      Merge pull request #8 from cortex/masterShared...   \n",
       "3                Integrate Mathieu Bryen's pull request.   \n",
       "4      Merge branch 'master' of github.com:mavam/stat...   \n",
       "...                                                  ...   \n",
       "49995                                     10.6 build fix   \n",
       "49996     Don't delete beanstalkd.spec during distclean.   \n",
       "49997                          Re-add bitcoin(32&80).xpm   \n",
       "49998  fixed some ClassInfo bugsSummary:for better re...   \n",
       "49999                        Support chinese Language ns   \n",
       "\n",
       "             labels_predicted  \n",
       "0           __label__features  \n",
       "1         __label__corrective  \n",
       "2      __label__nonfunctional  \n",
       "3         __label__perfective  \n",
       "4           __label__features  \n",
       "...                       ...  \n",
       "49995     __label__corrective  \n",
       "49996     __label__perfective  \n",
       "49997     __label__perfective  \n",
       "49998     __label__corrective  \n",
       "49999     __label__perfective  \n",
       "\n",
       "[50000 rows x 2 columns]"
      ]
     },
     "execution_count": 10,
     "metadata": {},
     "output_type": "execute_result"
    }
   ],
   "source": [
    "df"
   ]
  },
  {
   "cell_type": "code",
   "execution_count": 11,
   "metadata": {},
   "outputs": [
    {
     "data": {
      "text/plain": [
       "([['__label__corrective']], [array([0.9992285], dtype=float32)])"
      ]
     },
     "execution_count": 11,
     "metadata": {},
     "output_type": "execute_result"
    }
   ],
   "source": [
    "classifier.predict(['fixed some ClassInfo bugsSummary:for better re.'])  "
   ]
  },
  {
   "cell_type": "code",
   "execution_count": 12,
   "metadata": {},
   "outputs": [
    {
     "name": "stderr",
     "output_type": "stream",
     "text": [
      "Read 0M words\n",
      "Number of words:  11972\n",
      "Number of labels: 5\n",
      "Progress: 100.0% words/sec/thread:  691999 lr:  0.000000 avg.loss:  0.204855 ETA:   0h 0m 0s\n"
     ]
    },
    {
     "data": {
      "text/plain": [
       "([['__label__corrective']], [array([0.99983835], dtype=float32)])"
      ]
     },
     "execution_count": 12,
     "metadata": {},
     "output_type": "execute_result"
    }
   ],
   "source": [
    "import fasttext\n",
    "model = fasttext.train_supervised(input=\"../data/commits.train\", lr=0.1, epoch=25, wordNgrams=2)\n",
    "stats = model.test(\"../data/commits.valid\")\n",
    "model.predict(['fixed some ClassInfo bugsSummary:for better re.'])  "
   ]
  },
  {
   "cell_type": "code",
   "execution_count": 13,
   "metadata": {},
   "outputs": [
    {
     "name": "stdout",
     "output_type": "stream",
     "text": [
      "N\t2269\n",
      "P@1\t0.784\n",
      "R@1\t0.784\n"
     ]
    }
   ],
   "source": [
    "def print_results(N, p, r):\n",
    "    print(\"N\\t\" + str(N))\n",
    "    print(\"P@{}\\t{:.3f}\".format(1, p))\n",
    "    print(\"R@{}\\t{:.3f}\".format(1, r))\n",
    "\n",
    "print_results(*model.test(\"../data/commits.valid\"))"
   ]
  },
  {
   "attachments": {
    "image.png": {
     "image/png": "[encoded data removed]"
    }
   },
   "cell_type": "markdown",
   "metadata": {},
   "source": [
    "![image.png](attachment:image.png)"
   ]
  },
  {
   "cell_type": "code",
   "execution_count": 14,
   "metadata": {},
   "outputs": [
    {
     "name": "stderr",
     "output_type": "stream",
     "text": [
      "/home/matheus/.local/lib/python3.11/site-packages/sklearn/metrics/_classification.py:1531: UndefinedMetricWarning: Precision is ill-defined and being set to 0.0 in labels with no predicted samples. Use `zero_division` parameter to control this behavior.\n",
      "  _warn_prf(average, modifier, f\"{metric.capitalize()} is\", len(result))\n"
     ]
    },
    {
     "name": "stdout",
     "output_type": "stream",
     "text": [
      "Precision: 0.50\n",
      "Recall: 0.62\n",
      "F1-score: 0.54\n"
     ]
    }
   ],
   "source": [
    "from sklearn.metrics import precision_score, recall_score, f1_score\n",
    "\n",
    "# Suponha que você tenha os rótulos verdadeiros e as previsões do LLM\n",
    "y_true = [\"corrective\", \"features\", \"corrective\", \"perfective\", \"non-functional\"]\n",
    "y_pred = [\"corrective\", \"features\", \"perfective\", \"perfective\", \"corrective\"]\n",
    "\n",
    "# Calcula as métricas\n",
    "precision = precision_score(y_true, y_pred, average=\"macro\")  # Média das classes\n",
    "recall = recall_score(y_true, y_pred, average=\"macro\")\n",
    "f1 = f1_score(y_true, y_pred, average=\"macro\")\n",
    "\n",
    "print(f\"Precision: {precision:.2f}\")\n",
    "print(f\"Recall: {recall:.2f}\")\n",
    "print(f\"F1-score: {f1:.2f}\")"
   ]
  },
  {
   "cell_type": "code",
   "execution_count": 15,
   "metadata": {},
   "outputs": [
    {
     "name": "stdout",
     "output_type": "stream",
     "text": [
      "                    label                                            comment\n",
      "0        __label__unknown  infra .  chart: fix socket info items duplicat...\n",
      "1  __label__nonfunctional  performance improvements to get the existing f...\n",
      "2       __label__features  enable action item text display on pre-android...\n",
      "3  __label__nonfunctional  issue 55 enhanced integration tests to support...\n",
      "4        __label__unknown  add a simple duplicate method to maintain cons...\n"
     ]
    }
   ],
   "source": [
    "import pandas as pd\n",
    "\n",
    "# Definir o nome do arquivo\n",
    "arquivo = \"../data/commits.valid\" \n",
    "\n",
    "# Ler o arquivo corretamente com separação entre rótulo e comentário\n",
    "def process_line(line):\n",
    "    parts = line.split(' ', 1)  # Separar apenas no primeiro espaço\n",
    "    #label = parts[0].replace('__label__', '')\n",
    "    label = parts[0]\n",
    "    comment = parts[1] if len(parts) > 1 else ''\n",
    "    return label, comment\n",
    "\n",
    "# Ler o arquivo e armazenar em um DataFrame\n",
    "with open(arquivo, \"r\", encoding=\"utf-8\") as f:\n",
    "    data = [process_line(line.strip()) for line in f]\n",
    "\n",
    "df = pd.DataFrame(data, columns=['label', 'comment'])\n",
    "\n",
    "# Exibir as primeiras linhas do DataFrame\n",
    "print(df.head())\n"
   ]
  },
  {
   "cell_type": "code",
   "execution_count": 16,
   "metadata": {},
   "outputs": [
    {
     "name": "stdout",
     "output_type": "stream",
     "text": [
      "                 label                                            comment\n",
      "0  __label__perfective        Add marble diagrams for Single operators.--\n",
      "1  __label__perfective              Change hasException to hasThrowable--\n",
      "2    __label__features  Trying to extend the Scheduler interface accor...\n",
      "3    __label__features   RunAsync method for outputting multiple values--\n",
      "4  __label__corrective  forEach with Action1 but not Observer--I re-re...\n"
     ]
    }
   ],
   "source": [
    "import pandas as pd\n",
    "\n",
    "# Definir o nome do arquivo\n",
    "arquivo = \"../data/commits-labeled.txt\" \n",
    "\n",
    "# Ler o arquivo corretamente com separação entre rótulo e comentário\n",
    "def process_line(line):\n",
    "    if line.startswith(\"__label__\"):  # Considerar apenas linhas que iniciam com __label__\n",
    "        parts = line.split(' ', 1)  # Separar apenas no primeiro espaço\n",
    "        label = parts[0]\n",
    "        comment = parts[1] if len(parts) > 1 else ''\n",
    "        return label, comment\n",
    "    return None  # Ignorar linhas que não começam com __label__\n",
    "\n",
    "# Ler o arquivo e armazenar em um DataFrame\n",
    "with open(arquivo, \"r\", encoding=\"utf-8\") as f:\n",
    "    data = []\n",
    "    current_label = None\n",
    "    current_comment = \"\"\n",
    "    \n",
    "    for line in f:\n",
    "        line = line.strip()\n",
    "        if line.startswith(\"__label__\"):  # Nova entrada encontrada\n",
    "            if current_label is not None:\n",
    "                data.append((current_label, current_comment))\n",
    "            label, comment = process_line(line)\n",
    "            if label is not None:\n",
    "                current_label = label\n",
    "                current_comment = comment\n",
    "        else:\n",
    "            current_comment += \" \" + line  # Continuar acumulando a descrição\n",
    "    \n",
    "    if current_label is not None:\n",
    "        data.append((current_label, current_comment))  # Adicionar o último registro\n",
    "\n",
    "df = pd.DataFrame(data, columns=['label', 'comment'])\n",
    "\n",
    "# Exibir as primeiras linhas do DataFrame\n",
    "print(df.head())\n"
   ]
  },
  {
   "cell_type": "code",
   "execution_count": 17,
   "metadata": {},
   "outputs": [
    {
     "data": {
      "text/html": [
       "<div>\n",
       "<style scoped>\n",
       "    .dataframe tbody tr th:only-of-type {\n",
       "        vertical-align: middle;\n",
       "    }\n",
       "\n",
       "    .dataframe tbody tr th {\n",
       "        vertical-align: top;\n",
       "    }\n",
       "\n",
       "    .dataframe thead th {\n",
       "        text-align: right;\n",
       "    }\n",
       "</style>\n",
       "<table border=\"1\" class=\"dataframe\">\n",
       "  <thead>\n",
       "    <tr style=\"text-align: right;\">\n",
       "      <th></th>\n",
       "      <th>label</th>\n",
       "      <th>comment</th>\n",
       "      <th>label_predicted</th>\n",
       "    </tr>\n",
       "  </thead>\n",
       "  <tbody>\n",
       "    <tr>\n",
       "      <th>0</th>\n",
       "      <td>__label__perfective</td>\n",
       "      <td>Add marble diagrams for Single operators.--</td>\n",
       "      <td>__label__perfective</td>\n",
       "    </tr>\n",
       "    <tr>\n",
       "      <th>1</th>\n",
       "      <td>__label__perfective</td>\n",
       "      <td>Change hasException to hasThrowable--</td>\n",
       "      <td>__label__features</td>\n",
       "    </tr>\n",
       "    <tr>\n",
       "      <th>2</th>\n",
       "      <td>__label__features</td>\n",
       "      <td>Trying to extend the Scheduler interface accor...</td>\n",
       "      <td>__label__features</td>\n",
       "    </tr>\n",
       "    <tr>\n",
       "      <th>3</th>\n",
       "      <td>__label__features</td>\n",
       "      <td>RunAsync method for outputting multiple values--</td>\n",
       "      <td>__label__features</td>\n",
       "    </tr>\n",
       "    <tr>\n",
       "      <th>4</th>\n",
       "      <td>__label__corrective</td>\n",
       "      <td>forEach with Action1 but not Observer--I re-re...</td>\n",
       "      <td>__label__corrective</td>\n",
       "    </tr>\n",
       "  </tbody>\n",
       "</table>\n",
       "</div>"
      ],
      "text/plain": [
       "                 label                                            comment  \\\n",
       "0  __label__perfective        Add marble diagrams for Single operators.--   \n",
       "1  __label__perfective              Change hasException to hasThrowable--   \n",
       "2    __label__features  Trying to extend the Scheduler interface accor...   \n",
       "3    __label__features   RunAsync method for outputting multiple values--   \n",
       "4  __label__corrective  forEach with Action1 but not Observer--I re-re...   \n",
       "\n",
       "       label_predicted  \n",
       "0  __label__perfective  \n",
       "1    __label__features  \n",
       "2    __label__features  \n",
       "3    __label__features  \n",
       "4  __label__corrective  "
      ]
     },
     "execution_count": 17,
     "metadata": {},
     "output_type": "execute_result"
    }
   ],
   "source": [
    "commits = list(df['comment'].astype(str))\n",
    "#labels = classifier.predict(commits)\n",
    "labels = model.predict(commits)\n",
    "res = list(zip(*labels))\n",
    "res_list = [x[0] for x in res]\n",
    "lst2 = [item[0] for item in res_list]\n",
    "df['label_predicted'] = lst2\n",
    "df.head()"
   ]
  },
  {
   "cell_type": "code",
   "execution_count": 18,
   "metadata": {},
   "outputs": [
    {
     "data": {
      "text/html": [
       "<div>\n",
       "<style scoped>\n",
       "    .dataframe tbody tr th:only-of-type {\n",
       "        vertical-align: middle;\n",
       "    }\n",
       "\n",
       "    .dataframe tbody tr th {\n",
       "        vertical-align: top;\n",
       "    }\n",
       "\n",
       "    .dataframe thead th {\n",
       "        text-align: right;\n",
       "    }\n",
       "</style>\n",
       "<table border=\"1\" class=\"dataframe\">\n",
       "  <thead>\n",
       "    <tr style=\"text-align: right;\">\n",
       "      <th></th>\n",
       "      <th>label</th>\n",
       "      <th>comment</th>\n",
       "      <th>label_predicted</th>\n",
       "    </tr>\n",
       "  </thead>\n",
       "  <tbody>\n",
       "    <tr>\n",
       "      <th>1</th>\n",
       "      <td>__label__perfective</td>\n",
       "      <td>Change hasException to hasThrowable--</td>\n",
       "      <td>__label__features</td>\n",
       "    </tr>\n",
       "    <tr>\n",
       "      <th>8</th>\n",
       "      <td>__label__corrective</td>\n",
       "      <td>1.x: Fix Completable swallows- OnErrorNotImple...</td>\n",
       "      <td>__label__features</td>\n",
       "    </tr>\n",
       "    <tr>\n",
       "      <th>11</th>\n",
       "      <td>__label__corrective</td>\n",
       "      <td>Fixed byLine test to use line.separator system...</td>\n",
       "      <td>__label__perfective</td>\n",
       "    </tr>\n",
       "    <tr>\n",
       "      <th>34</th>\n",
       "      <td>__label__perfective</td>\n",
       "      <td>Perf Tests with JMH--</td>\n",
       "      <td>__label__features</td>\n",
       "    </tr>\n",
       "    <tr>\n",
       "      <th>37</th>\n",
       "      <td>__label__perfective</td>\n",
       "      <td>Remove Unnecessary Subscription--- be explicit...</td>\n",
       "      <td>__label__corrective</td>\n",
       "    </tr>\n",
       "    <tr>\n",
       "      <th>...</th>\n",
       "      <td>...</td>\n",
       "      <td>...</td>\n",
       "      <td>...</td>\n",
       "    </tr>\n",
       "    <tr>\n",
       "      <th>4387</th>\n",
       "      <td>__label__perfective</td>\n",
       "      <td>Project Structure dialog. Some forms refactored.</td>\n",
       "      <td>__label__features</td>\n",
       "    </tr>\n",
       "    <tr>\n",
       "      <th>4458</th>\n",
       "      <td>__label__perfective</td>\n",
       "      <td>\"Small API change that affects a ton of classe...</td>\n",
       "      <td>__label__corrective</td>\n",
       "    </tr>\n",
       "    <tr>\n",
       "      <th>4471</th>\n",
       "      <td>__label__perfective</td>\n",
       "      <td>\"Started moving to the type system. Design is ...</td>\n",
       "      <td>__label__features</td>\n",
       "    </tr>\n",
       "    <tr>\n",
       "      <th>4509</th>\n",
       "      <td>__label__perfective</td>\n",
       "      <td>Updated Quadtree data structure with performan...</td>\n",
       "      <td>__label__nonfunctional</td>\n",
       "    </tr>\n",
       "    <tr>\n",
       "      <th>4511</th>\n",
       "      <td>__label__perfective</td>\n",
       "      <td>Updated TODO. Design improvement.</td>\n",
       "      <td>__label__features</td>\n",
       "    </tr>\n",
       "  </tbody>\n",
       "</table>\n",
       "<p>455 rows × 3 columns</p>\n",
       "</div>"
      ],
      "text/plain": [
       "                    label                                            comment  \\\n",
       "1     __label__perfective              Change hasException to hasThrowable--   \n",
       "8     __label__corrective  1.x: Fix Completable swallows- OnErrorNotImple...   \n",
       "11    __label__corrective  Fixed byLine test to use line.separator system...   \n",
       "34    __label__perfective                              Perf Tests with JMH--   \n",
       "37    __label__perfective  Remove Unnecessary Subscription--- be explicit...   \n",
       "...                   ...                                                ...   \n",
       "4387  __label__perfective   Project Structure dialog. Some forms refactored.   \n",
       "4458  __label__perfective  \"Small API change that affects a ton of classe...   \n",
       "4471  __label__perfective  \"Started moving to the type system. Design is ...   \n",
       "4509  __label__perfective  Updated Quadtree data structure with performan...   \n",
       "4511  __label__perfective                  Updated TODO. Design improvement.   \n",
       "\n",
       "             label_predicted  \n",
       "1          __label__features  \n",
       "8          __label__features  \n",
       "11       __label__perfective  \n",
       "34         __label__features  \n",
       "37       __label__corrective  \n",
       "...                      ...  \n",
       "4387       __label__features  \n",
       "4458     __label__corrective  \n",
       "4471       __label__features  \n",
       "4509  __label__nonfunctional  \n",
       "4511       __label__features  \n",
       "\n",
       "[455 rows x 3 columns]"
      ]
     },
     "execution_count": 18,
     "metadata": {},
     "output_type": "execute_result"
    }
   ],
   "source": [
    "df_filtered = df[df['label'] != df['label_predicted']]\n",
    "df_filtered"
   ]
  },
  {
   "cell_type": "code",
   "execution_count": 19,
   "metadata": {},
   "outputs": [
    {
     "data": {
      "text/html": [
       "<div>\n",
       "<style scoped>\n",
       "    .dataframe tbody tr th:only-of-type {\n",
       "        vertical-align: middle;\n",
       "    }\n",
       "\n",
       "    .dataframe tbody tr th {\n",
       "        vertical-align: top;\n",
       "    }\n",
       "\n",
       "    .dataframe thead th {\n",
       "        text-align: right;\n",
       "    }\n",
       "</style>\n",
       "<table border=\"1\" class=\"dataframe\">\n",
       "  <thead>\n",
       "    <tr style=\"text-align: right;\">\n",
       "      <th></th>\n",
       "      <th>label</th>\n",
       "      <th>comment</th>\n",
       "      <th>label_predicted</th>\n",
       "    </tr>\n",
       "  </thead>\n",
       "  <tbody>\n",
       "    <tr>\n",
       "      <th>4</th>\n",
       "      <td>__label__corrective</td>\n",
       "      <td>forEach with Action1 but not Observer--I re-re...</td>\n",
       "      <td>__label__corrective</td>\n",
       "    </tr>\n",
       "    <tr>\n",
       "      <th>7</th>\n",
       "      <td>__label__corrective</td>\n",
       "      <td>Trying to fix non-deterministic test--- not su...</td>\n",
       "      <td>__label__corrective</td>\n",
       "    </tr>\n",
       "    <tr>\n",
       "      <th>9</th>\n",
       "      <td>__label__corrective</td>\n",
       "      <td>Fix unit test after last() changed behavior--</td>\n",
       "      <td>__label__corrective</td>\n",
       "    </tr>\n",
       "    <tr>\n",
       "      <th>17</th>\n",
       "      <td>__label__corrective</td>\n",
       "      <td>\"Wraps DoOnEach in a SafeObserver--This commit...</td>\n",
       "      <td>__label__corrective</td>\n",
       "    </tr>\n",
       "    <tr>\n",
       "      <th>25</th>\n",
       "      <td>__label__corrective</td>\n",
       "      <td>TakeWhile protect calls to predicate--</td>\n",
       "      <td>__label__corrective</td>\n",
       "    </tr>\n",
       "    <tr>\n",
       "      <th>...</th>\n",
       "      <td>...</td>\n",
       "      <td>...</td>\n",
       "      <td>...</td>\n",
       "    </tr>\n",
       "    <tr>\n",
       "      <th>4056</th>\n",
       "      <td>__label__corrective</td>\n",
       "      <td>new UI - corresponding UI change after bug 695...</td>\n",
       "      <td>__label__corrective</td>\n",
       "    </tr>\n",
       "    <tr>\n",
       "      <th>4073</th>\n",
       "      <td>__label__corrective</td>\n",
       "      <td>[ALLUXIO-1909] Fix failing tests</td>\n",
       "      <td>__label__corrective</td>\n",
       "    </tr>\n",
       "    <tr>\n",
       "      <th>4079</th>\n",
       "      <td>__label__corrective</td>\n",
       "      <td>Fix failing integration tests</td>\n",
       "      <td>__label__corrective</td>\n",
       "    </tr>\n",
       "    <tr>\n",
       "      <th>4080</th>\n",
       "      <td>__label__corrective</td>\n",
       "      <td>new UI - domain page - fix a bug that is cause...</td>\n",
       "      <td>__label__corrective</td>\n",
       "    </tr>\n",
       "    <tr>\n",
       "      <th>4458</th>\n",
       "      <td>__label__perfective</td>\n",
       "      <td>\"Small API change that affects a ton of classe...</td>\n",
       "      <td>__label__corrective</td>\n",
       "    </tr>\n",
       "  </tbody>\n",
       "</table>\n",
       "<p>1437 rows × 3 columns</p>\n",
       "</div>"
      ],
      "text/plain": [
       "                    label                                            comment  \\\n",
       "4     __label__corrective  forEach with Action1 but not Observer--I re-re...   \n",
       "7     __label__corrective  Trying to fix non-deterministic test--- not su...   \n",
       "9     __label__corrective      Fix unit test after last() changed behavior--   \n",
       "17    __label__corrective  \"Wraps DoOnEach in a SafeObserver--This commit...   \n",
       "25    __label__corrective             TakeWhile protect calls to predicate--   \n",
       "...                   ...                                                ...   \n",
       "4056  __label__corrective  new UI - corresponding UI change after bug 695...   \n",
       "4073  __label__corrective                   [ALLUXIO-1909] Fix failing tests   \n",
       "4079  __label__corrective                      Fix failing integration tests   \n",
       "4080  __label__corrective  new UI - domain page - fix a bug that is cause...   \n",
       "4458  __label__perfective  \"Small API change that affects a ton of classe...   \n",
       "\n",
       "          label_predicted  \n",
       "4     __label__corrective  \n",
       "7     __label__corrective  \n",
       "9     __label__corrective  \n",
       "17    __label__corrective  \n",
       "25    __label__corrective  \n",
       "...                   ...  \n",
       "4056  __label__corrective  \n",
       "4073  __label__corrective  \n",
       "4079  __label__corrective  \n",
       "4080  __label__corrective  \n",
       "4458  __label__corrective  \n",
       "\n",
       "[1437 rows x 3 columns]"
      ]
     },
     "execution_count": 19,
     "metadata": {},
     "output_type": "execute_result"
    }
   ],
   "source": [
    "df_corrective = df[df['label_predicted'] == '__label__corrective']\n",
    "df_corrective"
   ]
  },
  {
   "cell_type": "code",
   "execution_count": 20,
   "metadata": {},
   "outputs": [
    {
     "name": "stdout",
     "output_type": "stream",
     "text": [
      "Precision: 0.91\n",
      "Recall: 0.90\n",
      "F1-score: 0.90\n"
     ]
    }
   ],
   "source": [
    "from sklearn.metrics import precision_score, recall_score, f1_score\n",
    "\n",
    "# Suponha que você tenha os rótulos verdadeiros e as previsões do LLM\n",
    "y_true = df['label']\n",
    "y_pred = df['label_predicted']\n",
    "\n",
    "# Calcula as métricas\n",
    "precision = precision_score(y_true, y_pred, average=\"macro\")  # Média das classes\n",
    "recall = recall_score(y_true, y_pred, average=\"macro\")\n",
    "f1 = f1_score(y_true, y_pred, average=\"macro\")\n",
    "\n",
    "print(f\"Precision: {precision:.2f}\")\n",
    "print(f\"Recall: {recall:.2f}\")\n",
    "print(f\"F1-score: {f1:.2f}\")"
   ]
  },
  {
   "cell_type": "code",
   "execution_count": 21,
   "metadata": {},
   "outputs": [
    {
     "name": "stdout",
     "output_type": "stream",
     "text": [
      "                        precision    recall  f1-score   support\n",
      "\n",
      "   __label__corrective       0.97      0.87      0.92      1592\n",
      "     __label__features       0.84      0.93      0.88       799\n",
      "__label__nonfunctional       0.99      0.89      0.94      1006\n",
      "   __label__perfective       0.76      0.93      0.84       849\n",
      "      __label__unknown       0.98      0.90      0.94       282\n",
      "\n",
      "              accuracy                           0.90      4528\n",
      "             macro avg       0.91      0.90      0.90      4528\n",
      "          weighted avg       0.91      0.90      0.90      4528\n",
      "\n"
     ]
    }
   ],
   "source": [
    "from sklearn.metrics import classification_report\n",
    "print(classification_report(y_true, y_pred))"
   ]
  },
  {
   "cell_type": "code",
   "execution_count": 22,
   "metadata": {},
   "outputs": [
    {
     "name": "stdout",
     "output_type": "stream",
     "text": [
      "Tópico 0: value, java, fixes, added, code, fixed, step, problem, bug, fix\n",
      "Tópico 1: zone, domain, ip, add, cloudstack, new, page, ui, bug, fix\n",
      "Tópico 2: errors, error, wrong, cloudstack, object, bug, smallfix, issue, fix, fixed\n",
      "Tópico 3: page, api, vm, network, fixed, error, ui, bug, cloudstack, fix\n",
      "Tópico 4: commit, cases, bug, alluxio, cloudstack, tests, fixed, failing, test, fix\n",
      "Tópico 5: check, working, account, vm, autoscale, fixed, ha, work, fix, bug\n",
      "Tópico 6: issue, resolve, behavior, error, placeholders, code, hudson, bug, kt, fixed\n",
      "Tópico 7: asf, apache, trunk, repos, 0310, git, org, https, id, svn\n",
      "Tópico 8: hudson, test, storage, problem, exception, bug, cloudstack, error, fixed, fix\n",
      "Tópico 9: fixes, related, change, issue, error, cloudstack, added, fix, bug, fixed\n"
     ]
    }
   ],
   "source": [
    "from sklearn.feature_extraction.text import CountVectorizer\n",
    "from sklearn.decomposition import LatentDirichletAllocation\n",
    "\n",
    "# Exemplo de mensagens\n",
    "mensagens = [\n",
    "    \"O sistema apresentou falha ao carregar os dados\",\n",
    "    \"Erro ao conectar no servidor\",\n",
    "    \"A interface do software é intuitiva e fácil de usar\",\n",
    "    \"O aplicativo trava com frequência\",\n",
    "    \"A experiência do usuário foi ótima, sem bugs\",\n",
    "]\n",
    "\n",
    "# 1. Vetorização do texto (Bag-of-Words)\n",
    "vectorizer = CountVectorizer(stop_words='english')\n",
    "X = vectorizer.fit_transform(df_corrective['comment'])\n",
    "\n",
    "# 2. Aplicar LDA\n",
    "num_topicos = 10\n",
    "lda_model = LatentDirichletAllocation(n_components=num_topicos, random_state=42)\n",
    "lda_model.fit(X)\n",
    "\n",
    "# 3. Exibir palavras-chave dos tópicos\n",
    "termos = vectorizer.get_feature_names_out()\n",
    "for i, topic in enumerate(lda_model.components_):\n",
    "    palavras_importantes = [termos[j] for j in topic.argsort()[-10:]]\n",
    "    print(f\"Tópico {i}: {', '.join(palavras_importantes)}\")"
   ]
  },
  {
   "cell_type": "code",
   "execution_count": 23,
   "metadata": {},
   "outputs": [
    {
     "name": "stderr",
     "output_type": "stream",
     "text": [
      "[nltk_data] Downloading package stopwords to\n",
      "[nltk_data]     /home/matheus/nltk_data...\n",
      "[nltk_data]   Package stopwords is already up-to-date!\n",
      "[nltk_data] Downloading package punkt_tab to\n",
      "[nltk_data]     /home/matheus/nltk_data...\n",
      "[nltk_data]   Package punkt_tab is already up-to-date!\n"
     ]
    },
    {
     "data": {
      "text/plain": [
       "True"
      ]
     },
     "execution_count": 23,
     "metadata": {},
     "output_type": "execute_result"
    }
   ],
   "source": [
    "import nltk\n",
    "nltk.download('stopwords')\n",
    "nltk.download('punkt_tab')"
   ]
  },
  {
   "cell_type": "code",
   "execution_count": 24,
   "metadata": {},
   "outputs": [
    {
     "name": "stdout",
     "output_type": "stream",
     "text": [
      "Melhor número de tópicos: 9\n"
     ]
    }
   ],
   "source": [
    "import gensim\n",
    "import numpy as np\n",
    "from gensim import corpora\n",
    "from gensim.models import CoherenceModel\n",
    "from nltk.tokenize import word_tokenize\n",
    "from nltk.corpus import stopwords\n",
    "\n",
    "# Pré-processamento\n",
    "stop_words = set(stopwords.words('english'))\n",
    "mensagens_processadas = [\n",
    "    [word for word in word_tokenize(m.lower()) if word.isalpha() and word not in stop_words] \n",
    "    for m in df_corrective['comment']\n",
    "]\n",
    "\n",
    "# Criar dicionário e corpus\n",
    "dicionario = corpora.Dictionary(mensagens_processadas)\n",
    "corpus = [dicionario.doc2bow(texto) for texto in mensagens_processadas]\n",
    "\n",
    "# Testar diferentes números de tópicos\n",
    "def calcular_coerencia(num_topicos):\n",
    "    lda_model = gensim.models.LdaModel(corpus, num_topics=num_topicos, id2word=dicionario, passes=10)\n",
    "    coherence_model = CoherenceModel(model=lda_model, texts=mensagens_processadas, dictionary=dicionario, coherence='c_v')\n",
    "    return coherence_model.get_coherence()\n",
    "\n",
    "# Testar para diferentes valores de K\n",
    "topicos_testados = list(range(2, 10))  # Testa de 2 a 10 tópicos\n",
    "coherencias = [calcular_coerencia(k) for k in topicos_testados]\n",
    "\n",
    "# Encontrar o melhor K\n",
    "melhor_k = topicos_testados[np.argmax(coherencias)]\n",
    "print(f\"Melhor número de tópicos: {melhor_k}\")\n"
   ]
  },
  {
   "cell_type": "code",
   "execution_count": 34,
   "metadata": {},
   "outputs": [
    {
     "name": "stdout",
     "output_type": "stream",
     "text": [
      "Tópico 0: [('fixed', 0.033433877), ('fix', 0.02265779), ('bug', 0.014783648), ('https', 0.0145687675), ('build', 0.013155198), ('due', 0.011578727), ('api', 0.010013142), ('issue', 0.00969816), ('added', 0.008185745), ('failed', 0.0080162985)]\n",
      "fixed fix bug https build due api issue added failed \n",
      "Tópico 1: [('fix', 0.040300637), ('bug', 0.029682502), ('add', 0.017075187), ('page', 0.014883137), ('storage', 0.013632855), ('template', 0.013536325), ('host', 0.011908498), ('ui', 0.0104788635), ('primary', 0.009592745), ('button', 0.008930989)]\n",
      "fix bug add page storage template host ui primary button \n",
      "Tópico 2: [('bug', 0.085462645), ('fix', 0.07881989), ('ui', 0.05049038), ('new', 0.024673099), ('cloudstack', 0.02335968), ('page', 0.022748249), ('error', 0.018260278), ('api', 0.016771346), ('network', 0.010065513), ('fixed', 0.00939274)]\n",
      "bug fix ui new cloudstack page error api network fixed \n",
      "Tópico 3: [('bug', 0.035878982), ('fix', 0.033318195), ('fixed', 0.01607781), ('fixes', 0.0154490555), ('https', 0.013553897), ('error', 0.011739737), ('added', 0.008762297), ('problem', 0.008523446), ('code', 0.008206855), ('ui', 0.0077527533)]\n",
      "bug fix fixed fixes https error added problem code ui \n",
      "Tópico 4: [('fix', 0.075142205), ('bug', 0.03456955), ('error', 0.018681264), ('tests', 0.016740914), ('ip', 0.012830644), ('page', 0.012515951), ('failing', 0.01204625), ('address', 0.011964709), ('add', 0.010473118), ('fixed', 0.008563613)]\n",
      "fix bug error tests ip page failing address add fixed \n",
      "Tópico 5: [('bug', 0.025346363), ('fix', 0.016517233), ('fixed', 0.010049333), ('group', 0.008980971), ('zone', 0.00871729), ('node', 0.007851863), ('https', 0.006941348), ('domain', 0.006778442), ('add', 0.006726221), ('object', 0.006682491)]\n",
      "bug fix fixed group zone node https domain add object \n",
      "Tópico 6: [('fixed', 0.0657655), ('fix', 0.04375342), ('test', 0.04218477), ('bug', 0.019352688), ('problem', 0.012675727), ('failure', 0.01197791), ('issue', 0.011274822), ('error', 0.01049446), ('failing', 0.009952388), ('https', 0.00984942)]\n",
      "fixed fix test bug problem failure issue error failing https \n",
      "Tópico 7: [('fix', 0.033432554), ('bug', 0.021872655), ('fixed', 0.014348778), ('page', 0.0122228535), ('new', 0.011070512), ('object', 0.010956159), ('offering', 0.007675245), ('ui', 0.0075060274), ('null', 0.0071890918), ('error', 0.0070749214)]\n",
      "fix bug fixed page new object offering ui null error \n",
      "Tópico 8: [('fix', 0.031565614), ('fixed', 0.031157648), ('bug', 0.020504594), ('null', 0.014056387), ('vm', 0.012576466), ('issue', 0.009818283), ('ui', 0.008946064), ('error', 0.008396716), ('problem', 0.0082789585), ('network', 0.008020989)]\n",
      "fix fixed bug null vm issue ui error problem network \n"
     ]
    }
   ],
   "source": [
    "import pandas as pd\n",
    "import gensim\n",
    "from gensim import corpora\n",
    "from nltk.tokenize import word_tokenize\n",
    "from nltk.corpus import stopwords\n",
    "\n",
    "# Exemplo de mensagens\n",
    "mensagens = [\n",
    "    \"O sistema apresentou falha ao carregar os dados\",\n",
    "    \"Erro ao conectar no servidor\",\n",
    "    \"A interface do software é intuitiva e fácil de usar\",\n",
    "    \"O aplicativo trava com frequência\",\n",
    "    \"A experiência do usuário foi ótima, sem bugs\",\n",
    "]\n",
    "\n",
    "# 1. Pré-processamento\n",
    "stop_words = set(stopwords.words('english'))\n",
    "mensagens_processadas = [[word for word in word_tokenize(m.lower()) if word.isalpha() and word not in stop_words] for m in df_corrective['comment']]\n",
    "\n",
    "# 2. Criar o dicionário e a matriz BoW\n",
    "dicionario = corpora.Dictionary(mensagens_processadas)\n",
    "corpus = [dicionario.doc2bow(texto) for texto in mensagens_processadas]\n",
    "\n",
    "# 3. Aplicar LDA\n",
    "num_topicos = melhor_k\n",
    "lda_model = gensim.models.LdaModel(corpus, num_topics=num_topicos, id2word=dicionario, passes=10)\n",
    "\n",
    "# 4. Exibir os tópicos\n",
    "for i, topic in lda_model.show_topics(formatted=False, num_words=10):\n",
    "    print(f\"Tópico {i}: {topic}\")\n",
    "    sentence = \"\"\n",
    "    for w in topic:\n",
    "        sentence += w[0]+\" \"\n",
    "    print(f\"{sentence}\")\n"
   ]
  }
 ],
 "metadata": {
  "kernelspec": {
   "display_name": "Python 3",
   "language": "python",
   "name": "python3"
  },
  "language_info": {
   "codemirror_mode": {
    "name": "ipython",
    "version": 3
   },
   "file_extension": ".py",
   "mimetype": "text/x-python",
   "name": "python",
   "nbconvert_exporter": "python",
   "pygments_lexer": "ipython3",
   "version": "3.11.9"
  }
 },
 "nbformat": 4,
 "nbformat_minor": 2
}
